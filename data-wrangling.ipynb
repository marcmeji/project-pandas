{
 "cells": [
  {
   "cell_type": "code",
   "execution_count": 1,
   "metadata": {},
   "outputs": [],
   "source": [
    "import pandas as pd\n",
    "import numpy as np\n",
    "import re"
   ]
  },
  {
   "cell_type": "code",
   "execution_count": 2,
   "metadata": {},
   "outputs": [],
   "source": [
    "data = pd.read_csv('GSAF5.csv', encoding = 'iso-8859-1')"
   ]
  },
  {
   "cell_type": "code",
   "execution_count": 3,
   "metadata": {},
   "outputs": [
    {
     "data": {
      "text/html": [
       "<div>\n",
       "<style scoped>\n",
       "    .dataframe tbody tr th:only-of-type {\n",
       "        vertical-align: middle;\n",
       "    }\n",
       "\n",
       "    .dataframe tbody tr th {\n",
       "        vertical-align: top;\n",
       "    }\n",
       "\n",
       "    .dataframe thead th {\n",
       "        text-align: right;\n",
       "    }\n",
       "</style>\n",
       "<table border=\"1\" class=\"dataframe\">\n",
       "  <thead>\n",
       "    <tr style=\"text-align: right;\">\n",
       "      <th></th>\n",
       "      <th>Case Number</th>\n",
       "      <th>Date</th>\n",
       "      <th>Year</th>\n",
       "      <th>Type</th>\n",
       "      <th>Country</th>\n",
       "      <th>Area</th>\n",
       "      <th>Location</th>\n",
       "      <th>Activity</th>\n",
       "      <th>Name</th>\n",
       "      <th>Sex</th>\n",
       "      <th>...</th>\n",
       "      <th>Species</th>\n",
       "      <th>Investigator or Source</th>\n",
       "      <th>pdf</th>\n",
       "      <th>href formula</th>\n",
       "      <th>href</th>\n",
       "      <th>Case Number.1</th>\n",
       "      <th>Case Number.2</th>\n",
       "      <th>original order</th>\n",
       "      <th>Unnamed: 22</th>\n",
       "      <th>Unnamed: 23</th>\n",
       "    </tr>\n",
       "  </thead>\n",
       "  <tbody>\n",
       "    <tr>\n",
       "      <th>0</th>\n",
       "      <td>2016.09.18.c</td>\n",
       "      <td>18-Sep-16</td>\n",
       "      <td>2016</td>\n",
       "      <td>Unprovoked</td>\n",
       "      <td>USA</td>\n",
       "      <td>Florida</td>\n",
       "      <td>New Smyrna Beach, Volusia County</td>\n",
       "      <td>Surfing</td>\n",
       "      <td>male</td>\n",
       "      <td>M</td>\n",
       "      <td>...</td>\n",
       "      <td>NaN</td>\n",
       "      <td>Orlando Sentinel, 9/19/2016</td>\n",
       "      <td>2016.09.18.c-NSB.pdf</td>\n",
       "      <td>http://sharkattackfile.net/spreadsheets/pdf_di...</td>\n",
       "      <td>http://sharkattackfile.net/spreadsheets/pdf_di...</td>\n",
       "      <td>2016.09.18.c</td>\n",
       "      <td>2016.09.18.c</td>\n",
       "      <td>5993</td>\n",
       "      <td>NaN</td>\n",
       "      <td>NaN</td>\n",
       "    </tr>\n",
       "    <tr>\n",
       "      <th>1</th>\n",
       "      <td>2016.09.18.b</td>\n",
       "      <td>18-Sep-16</td>\n",
       "      <td>2016</td>\n",
       "      <td>Unprovoked</td>\n",
       "      <td>USA</td>\n",
       "      <td>Florida</td>\n",
       "      <td>New Smyrna Beach, Volusia County</td>\n",
       "      <td>Surfing</td>\n",
       "      <td>Chucky Luciano</td>\n",
       "      <td>M</td>\n",
       "      <td>...</td>\n",
       "      <td>NaN</td>\n",
       "      <td>Orlando Sentinel, 9/19/2016</td>\n",
       "      <td>2016.09.18.b-Luciano.pdf</td>\n",
       "      <td>http://sharkattackfile.net/spreadsheets/pdf_di...</td>\n",
       "      <td>http://sharkattackfile.net/spreadsheets/pdf_di...</td>\n",
       "      <td>2016.09.18.b</td>\n",
       "      <td>2016.09.18.b</td>\n",
       "      <td>5992</td>\n",
       "      <td>NaN</td>\n",
       "      <td>NaN</td>\n",
       "    </tr>\n",
       "    <tr>\n",
       "      <th>2</th>\n",
       "      <td>2016.09.18.a</td>\n",
       "      <td>18-Sep-16</td>\n",
       "      <td>2016</td>\n",
       "      <td>Unprovoked</td>\n",
       "      <td>USA</td>\n",
       "      <td>Florida</td>\n",
       "      <td>New Smyrna Beach, Volusia County</td>\n",
       "      <td>Surfing</td>\n",
       "      <td>male</td>\n",
       "      <td>M</td>\n",
       "      <td>...</td>\n",
       "      <td>NaN</td>\n",
       "      <td>Orlando Sentinel, 9/19/2016</td>\n",
       "      <td>2016.09.18.a-NSB.pdf</td>\n",
       "      <td>http://sharkattackfile.net/spreadsheets/pdf_di...</td>\n",
       "      <td>http://sharkattackfile.net/spreadsheets/pdf_di...</td>\n",
       "      <td>2016.09.18.a</td>\n",
       "      <td>2016.09.18.a</td>\n",
       "      <td>5991</td>\n",
       "      <td>NaN</td>\n",
       "      <td>NaN</td>\n",
       "    </tr>\n",
       "    <tr>\n",
       "      <th>3</th>\n",
       "      <td>2016.09.17</td>\n",
       "      <td>17-Sep-16</td>\n",
       "      <td>2016</td>\n",
       "      <td>Unprovoked</td>\n",
       "      <td>AUSTRALIA</td>\n",
       "      <td>Victoria</td>\n",
       "      <td>Thirteenth Beach</td>\n",
       "      <td>Surfing</td>\n",
       "      <td>Rory Angiolella</td>\n",
       "      <td>M</td>\n",
       "      <td>...</td>\n",
       "      <td>NaN</td>\n",
       "      <td>The Age, 9/18/2016</td>\n",
       "      <td>2016.09.17-Angiolella.pdf</td>\n",
       "      <td>http://sharkattackfile.net/spreadsheets/pdf_di...</td>\n",
       "      <td>http://sharkattackfile.net/spreadsheets/pdf_di...</td>\n",
       "      <td>2016.09.17</td>\n",
       "      <td>2016.09.17</td>\n",
       "      <td>5990</td>\n",
       "      <td>NaN</td>\n",
       "      <td>NaN</td>\n",
       "    </tr>\n",
       "    <tr>\n",
       "      <th>4</th>\n",
       "      <td>2016.09.15</td>\n",
       "      <td>16-Sep-16</td>\n",
       "      <td>2016</td>\n",
       "      <td>Unprovoked</td>\n",
       "      <td>AUSTRALIA</td>\n",
       "      <td>Victoria</td>\n",
       "      <td>Bells Beach</td>\n",
       "      <td>Surfing</td>\n",
       "      <td>male</td>\n",
       "      <td>M</td>\n",
       "      <td>...</td>\n",
       "      <td>2 m shark</td>\n",
       "      <td>The Age, 9/16/2016</td>\n",
       "      <td>2016.09.16-BellsBeach.pdf</td>\n",
       "      <td>http://sharkattackfile.net/spreadsheets/pdf_di...</td>\n",
       "      <td>http://sharkattackfile.net/spreadsheets/pdf_di...</td>\n",
       "      <td>2016.09.16</td>\n",
       "      <td>2016.09.15</td>\n",
       "      <td>5989</td>\n",
       "      <td>NaN</td>\n",
       "      <td>NaN</td>\n",
       "    </tr>\n",
       "  </tbody>\n",
       "</table>\n",
       "<p>5 rows × 24 columns</p>\n",
       "</div>"
      ],
      "text/plain": [
       "    Case Number       Date  Year        Type    Country      Area  \\\n",
       "0  2016.09.18.c  18-Sep-16  2016  Unprovoked        USA   Florida   \n",
       "1  2016.09.18.b  18-Sep-16  2016  Unprovoked        USA   Florida   \n",
       "2  2016.09.18.a  18-Sep-16  2016  Unprovoked        USA   Florida   \n",
       "3    2016.09.17  17-Sep-16  2016  Unprovoked  AUSTRALIA  Victoria   \n",
       "4    2016.09.15  16-Sep-16  2016  Unprovoked  AUSTRALIA  Victoria   \n",
       "\n",
       "                           Location Activity             Name Sex   \\\n",
       "0  New Smyrna Beach, Volusia County  Surfing             male    M   \n",
       "1  New Smyrna Beach, Volusia County  Surfing   Chucky Luciano    M   \n",
       "2  New Smyrna Beach, Volusia County  Surfing             male    M   \n",
       "3                  Thirteenth Beach  Surfing  Rory Angiolella    M   \n",
       "4                       Bells Beach  Surfing             male    M   \n",
       "\n",
       "      ...       Species        Investigator or Source  \\\n",
       "0     ...            NaN  Orlando Sentinel, 9/19/2016   \n",
       "1     ...            NaN  Orlando Sentinel, 9/19/2016   \n",
       "2     ...            NaN  Orlando Sentinel, 9/19/2016   \n",
       "3     ...            NaN           The Age, 9/18/2016   \n",
       "4     ...      2 m shark           The Age, 9/16/2016   \n",
       "\n",
       "                         pdf  \\\n",
       "0       2016.09.18.c-NSB.pdf   \n",
       "1   2016.09.18.b-Luciano.pdf   \n",
       "2       2016.09.18.a-NSB.pdf   \n",
       "3  2016.09.17-Angiolella.pdf   \n",
       "4  2016.09.16-BellsBeach.pdf   \n",
       "\n",
       "                                        href formula  \\\n",
       "0  http://sharkattackfile.net/spreadsheets/pdf_di...   \n",
       "1  http://sharkattackfile.net/spreadsheets/pdf_di...   \n",
       "2  http://sharkattackfile.net/spreadsheets/pdf_di...   \n",
       "3  http://sharkattackfile.net/spreadsheets/pdf_di...   \n",
       "4  http://sharkattackfile.net/spreadsheets/pdf_di...   \n",
       "\n",
       "                                                href Case Number.1  \\\n",
       "0  http://sharkattackfile.net/spreadsheets/pdf_di...  2016.09.18.c   \n",
       "1  http://sharkattackfile.net/spreadsheets/pdf_di...  2016.09.18.b   \n",
       "2  http://sharkattackfile.net/spreadsheets/pdf_di...  2016.09.18.a   \n",
       "3  http://sharkattackfile.net/spreadsheets/pdf_di...    2016.09.17   \n",
       "4  http://sharkattackfile.net/spreadsheets/pdf_di...    2016.09.16   \n",
       "\n",
       "  Case Number.2 original order Unnamed: 22 Unnamed: 23  \n",
       "0  2016.09.18.c           5993         NaN         NaN  \n",
       "1  2016.09.18.b           5992         NaN         NaN  \n",
       "2  2016.09.18.a           5991         NaN         NaN  \n",
       "3    2016.09.17           5990         NaN         NaN  \n",
       "4    2016.09.15           5989         NaN         NaN  \n",
       "\n",
       "[5 rows x 24 columns]"
      ]
     },
     "execution_count": 3,
     "metadata": {},
     "output_type": "execute_result"
    }
   ],
   "source": [
    "data.head()"
   ]
  },
  {
   "cell_type": "code",
   "execution_count": 4,
   "metadata": {},
   "outputs": [
    {
     "data": {
      "text/plain": [
       "(5992, 24)"
      ]
     },
     "execution_count": 4,
     "metadata": {},
     "output_type": "execute_result"
    }
   ],
   "source": [
    "data.shape"
   ]
  },
  {
   "cell_type": "code",
   "execution_count": 5,
   "metadata": {},
   "outputs": [
    {
     "name": "stdout",
     "output_type": "stream",
     "text": [
      "<class 'pandas.core.frame.DataFrame'>\n",
      "RangeIndex: 5992 entries, 0 to 5991\n",
      "Data columns (total 24 columns):\n",
      "Case Number               5992 non-null object\n",
      "Date                      5992 non-null object\n",
      "Year                      5992 non-null int64\n",
      "Type                      5992 non-null object\n",
      "Country                   5949 non-null object\n",
      "Area                      5590 non-null object\n",
      "Location                  5496 non-null object\n",
      "Activity                  5465 non-null object\n",
      "Name                      5792 non-null object\n",
      "Sex                       5425 non-null object\n",
      "Age                       3311 non-null object\n",
      "Injury                    5965 non-null object\n",
      "Fatal (Y/N)               5973 non-null object\n",
      "Time                      2779 non-null object\n",
      "Species                   3058 non-null object\n",
      "Investigator or Source    5977 non-null object\n",
      "pdf                       5992 non-null object\n",
      "href formula              5991 non-null object\n",
      "href                      5989 non-null object\n",
      "Case Number.1             5992 non-null object\n",
      "Case Number.2             5992 non-null object\n",
      "original order            5992 non-null int64\n",
      "Unnamed: 22               1 non-null object\n",
      "Unnamed: 23               2 non-null object\n",
      "dtypes: int64(2), object(22)\n",
      "memory usage: 1.1+ MB\n"
     ]
    }
   ],
   "source": [
    "data.info()"
   ]
  },
  {
   "cell_type": "code",
   "execution_count": 6,
   "metadata": {},
   "outputs": [
    {
     "name": "stdout",
     "output_type": "stream",
     "text": [
      "Number of duplicate records dropped:  0\n"
     ]
    }
   ],
   "source": [
    "#eliminamos casos duplicados, contando casos antes y despues para ver cuantos eliminamos\n",
    "before = len(data)\n",
    "data = data.drop_duplicates()\n",
    "after = len(data)\n",
    "print('Number of duplicate records dropped: ', str(before - after))\n",
    "#una vez reduzcamos columnas, lo haremos otra vez"
   ]
  },
  {
   "cell_type": "code",
   "execution_count": 7,
   "metadata": {},
   "outputs": [
    {
     "data": {
      "text/html": [
       "<div>\n",
       "<style scoped>\n",
       "    .dataframe tbody tr th:only-of-type {\n",
       "        vertical-align: middle;\n",
       "    }\n",
       "\n",
       "    .dataframe tbody tr th {\n",
       "        vertical-align: top;\n",
       "    }\n",
       "\n",
       "    .dataframe thead th {\n",
       "        text-align: right;\n",
       "    }\n",
       "</style>\n",
       "<table border=\"1\" class=\"dataframe\">\n",
       "  <thead>\n",
       "    <tr style=\"text-align: right;\">\n",
       "      <th></th>\n",
       "      <th>Case Number</th>\n",
       "      <th>Year</th>\n",
       "      <th>Type</th>\n",
       "      <th>Country</th>\n",
       "      <th>Activity</th>\n",
       "      <th>Fatal (Y/N)</th>\n",
       "    </tr>\n",
       "  </thead>\n",
       "  <tbody>\n",
       "    <tr>\n",
       "      <th>0</th>\n",
       "      <td>2016.09.18.c</td>\n",
       "      <td>2016</td>\n",
       "      <td>Unprovoked</td>\n",
       "      <td>USA</td>\n",
       "      <td>Surfing</td>\n",
       "      <td>N</td>\n",
       "    </tr>\n",
       "    <tr>\n",
       "      <th>1</th>\n",
       "      <td>2016.09.18.b</td>\n",
       "      <td>2016</td>\n",
       "      <td>Unprovoked</td>\n",
       "      <td>USA</td>\n",
       "      <td>Surfing</td>\n",
       "      <td>N</td>\n",
       "    </tr>\n",
       "    <tr>\n",
       "      <th>2</th>\n",
       "      <td>2016.09.18.a</td>\n",
       "      <td>2016</td>\n",
       "      <td>Unprovoked</td>\n",
       "      <td>USA</td>\n",
       "      <td>Surfing</td>\n",
       "      <td>N</td>\n",
       "    </tr>\n",
       "    <tr>\n",
       "      <th>3</th>\n",
       "      <td>2016.09.17</td>\n",
       "      <td>2016</td>\n",
       "      <td>Unprovoked</td>\n",
       "      <td>AUSTRALIA</td>\n",
       "      <td>Surfing</td>\n",
       "      <td>N</td>\n",
       "    </tr>\n",
       "    <tr>\n",
       "      <th>4</th>\n",
       "      <td>2016.09.15</td>\n",
       "      <td>2016</td>\n",
       "      <td>Unprovoked</td>\n",
       "      <td>AUSTRALIA</td>\n",
       "      <td>Surfing</td>\n",
       "      <td>N</td>\n",
       "    </tr>\n",
       "  </tbody>\n",
       "</table>\n",
       "</div>"
      ],
      "text/plain": [
       "    Case Number  Year        Type    Country Activity Fatal (Y/N)\n",
       "0  2016.09.18.c  2016  Unprovoked        USA  Surfing           N\n",
       "1  2016.09.18.b  2016  Unprovoked        USA  Surfing           N\n",
       "2  2016.09.18.a  2016  Unprovoked        USA  Surfing           N\n",
       "3    2016.09.17  2016  Unprovoked  AUSTRALIA  Surfing           N\n",
       "4    2016.09.15  2016  Unprovoked  AUSTRALIA  Surfing           N"
      ]
     },
     "execution_count": 7,
     "metadata": {},
     "output_type": "execute_result"
    }
   ],
   "source": [
    "#creo un nuevo dataframe con las columnas que considero que seran mas utiles\n",
    "\n",
    "data_info = data[['Case Number','Year','Type','Country','Activity','Fatal (Y/N)']]\n",
    "data_info.head()"
   ]
  },
  {
   "cell_type": "code",
   "execution_count": 8,
   "metadata": {},
   "outputs": [
    {
     "data": {
      "text/plain": [
       "Index(['Case_num', 'Year', 'Type', 'Country', 'Activity', 'Fatal'], dtype='object')"
      ]
     },
     "execution_count": 8,
     "metadata": {},
     "output_type": "execute_result"
    }
   ],
   "source": [
    "#Cambio nombres de columnas a otros mas manejables\n",
    "\n",
    "data_info = data_info.rename(columns={'Case Number':'Case_num', 'Fatal (Y/N)':'Fatal'})\n",
    "data_info.columns"
   ]
  },
  {
   "cell_type": "code",
   "execution_count": 9,
   "metadata": {},
   "outputs": [
    {
     "name": "stdout",
     "output_type": "stream",
     "text": [
      "<class 'pandas.core.frame.DataFrame'>\n",
      "Int64Index: 5992 entries, 0 to 5991\n",
      "Data columns (total 6 columns):\n",
      "Case_num    5992 non-null object\n",
      "Year        5992 non-null int64\n",
      "Type        5992 non-null object\n",
      "Country     5949 non-null object\n",
      "Activity    5465 non-null object\n",
      "Fatal       5973 non-null object\n",
      "dtypes: int64(1), object(5)\n",
      "memory usage: 327.7+ KB\n"
     ]
    }
   ],
   "source": [
    "data_info.info()"
   ]
  },
  {
   "cell_type": "code",
   "execution_count": 10,
   "metadata": {},
   "outputs": [
    {
     "data": {
      "text/html": [
       "<div>\n",
       "<style scoped>\n",
       "    .dataframe tbody tr th:only-of-type {\n",
       "        vertical-align: middle;\n",
       "    }\n",
       "\n",
       "    .dataframe tbody tr th {\n",
       "        vertical-align: top;\n",
       "    }\n",
       "\n",
       "    .dataframe thead th {\n",
       "        text-align: right;\n",
       "    }\n",
       "</style>\n",
       "<table border=\"1\" class=\"dataframe\">\n",
       "  <thead>\n",
       "    <tr style=\"text-align: right;\">\n",
       "      <th></th>\n",
       "      <th>Case_num</th>\n",
       "      <th>Year</th>\n",
       "      <th>Country</th>\n",
       "      <th>Activity</th>\n",
       "      <th>Type</th>\n",
       "      <th>Fatal</th>\n",
       "    </tr>\n",
       "  </thead>\n",
       "  <tbody>\n",
       "    <tr>\n",
       "      <th>0</th>\n",
       "      <td>2016.09.18.c</td>\n",
       "      <td>2016</td>\n",
       "      <td>USA</td>\n",
       "      <td>Surfing</td>\n",
       "      <td>Unprovoked</td>\n",
       "      <td>N</td>\n",
       "    </tr>\n",
       "    <tr>\n",
       "      <th>1</th>\n",
       "      <td>2016.09.18.b</td>\n",
       "      <td>2016</td>\n",
       "      <td>USA</td>\n",
       "      <td>Surfing</td>\n",
       "      <td>Unprovoked</td>\n",
       "      <td>N</td>\n",
       "    </tr>\n",
       "    <tr>\n",
       "      <th>2</th>\n",
       "      <td>2016.09.18.a</td>\n",
       "      <td>2016</td>\n",
       "      <td>USA</td>\n",
       "      <td>Surfing</td>\n",
       "      <td>Unprovoked</td>\n",
       "      <td>N</td>\n",
       "    </tr>\n",
       "    <tr>\n",
       "      <th>3</th>\n",
       "      <td>2016.09.17</td>\n",
       "      <td>2016</td>\n",
       "      <td>AUSTRALIA</td>\n",
       "      <td>Surfing</td>\n",
       "      <td>Unprovoked</td>\n",
       "      <td>N</td>\n",
       "    </tr>\n",
       "    <tr>\n",
       "      <th>4</th>\n",
       "      <td>2016.09.15</td>\n",
       "      <td>2016</td>\n",
       "      <td>AUSTRALIA</td>\n",
       "      <td>Surfing</td>\n",
       "      <td>Unprovoked</td>\n",
       "      <td>N</td>\n",
       "    </tr>\n",
       "  </tbody>\n",
       "</table>\n",
       "</div>"
      ],
      "text/plain": [
       "       Case_num  Year    Country Activity        Type Fatal\n",
       "0  2016.09.18.c  2016        USA  Surfing  Unprovoked     N\n",
       "1  2016.09.18.b  2016        USA  Surfing  Unprovoked     N\n",
       "2  2016.09.18.a  2016        USA  Surfing  Unprovoked     N\n",
       "3    2016.09.17  2016  AUSTRALIA  Surfing  Unprovoked     N\n",
       "4    2016.09.15  2016  AUSTRALIA  Surfing  Unprovoked     N"
      ]
     },
     "execution_count": 10,
     "metadata": {},
     "output_type": "execute_result"
    }
   ],
   "source": [
    "#reordeno las columnas\n",
    "column_order = ['Case_num', 'Year', 'Country', 'Activity', 'Type','Fatal']\n",
    "data_info = data_info[column_order]\n",
    "data_info.head()"
   ]
  },
  {
   "cell_type": "code",
   "execution_count": 11,
   "metadata": {},
   "outputs": [
    {
     "name": "stdout",
     "output_type": "stream",
     "text": [
      "Number of duplicate records dropped:  2\n"
     ]
    }
   ],
   "source": [
    "#repetimos el paso de eliminar filas duplicadas\n",
    "\n",
    "before = len(data_info)\n",
    "\n",
    "data_info = data_info.drop_duplicates()\n",
    "\n",
    "after = len(data_info)\n",
    "\n",
    "print('Number of duplicate records dropped: ', str(before - after))\n",
    "\n",
    "#al reducir las columnas, ahora si hay dos filas duplicadas que se eliminan"
   ]
  },
  {
   "cell_type": "code",
   "execution_count": 12,
   "metadata": {},
   "outputs": [
    {
     "data": {
      "text/plain": [
       "Country      43\n",
       "Activity    526\n",
       "Fatal        19\n",
       "dtype: int64"
      ]
     },
     "execution_count": 12,
     "metadata": {},
     "output_type": "execute_result"
    }
   ],
   "source": [
    "#busco valores nulos por columna\n",
    "\n",
    "null_cols = data_info.isnull().sum()\n",
    "null_cols[null_cols > 0]\n",
    "\n",
    "#el que mas tiene no llega al 10%, no elimino ninguna columna"
   ]
  },
  {
   "cell_type": "code",
   "execution_count": 14,
   "metadata": {},
   "outputs": [
    {
     "name": "stdout",
     "output_type": "stream",
     "text": [
      "Todos los registros:  5990\n",
      "Registros desde 1900:  5309\n"
     ]
    }
   ],
   "source": [
    "\n",
    "#La gran mayoria de las observaciones se concentran en los ultimos 100 años\n",
    "\n",
    "all_years = len(data_info['Year'])\n",
    "print('Todos los registros: ',all_years)\n",
    "\n",
    "from_1900 = len(data_info.loc[data_info['Year']>1900])\n",
    "print('Registros desde 1900: ',from_1900)\n",
    "\n",
    "\n",
    "\n",
    "\n",
    "#Teniendo en cuenta que los registros mas antiguos son los que tienen datos menos fiables y donde faltan mas datos,\n",
    "#me quedo con solamente los mas recientes\n",
    "\n",
    "data_info = data_info.loc[data_info['Year']>1900]"
   ]
  },
  {
   "cell_type": "code",
   "execution_count": 15,
   "metadata": {
    "scrolled": true
   },
   "outputs": [
    {
     "data": {
      "text/html": [
       "<div>\n",
       "<style scoped>\n",
       "    .dataframe tbody tr th:only-of-type {\n",
       "        vertical-align: middle;\n",
       "    }\n",
       "\n",
       "    .dataframe tbody tr th {\n",
       "        vertical-align: top;\n",
       "    }\n",
       "\n",
       "    .dataframe thead th {\n",
       "        text-align: right;\n",
       "    }\n",
       "</style>\n",
       "<table border=\"1\" class=\"dataframe\">\n",
       "  <thead>\n",
       "    <tr style=\"text-align: right;\">\n",
       "      <th></th>\n",
       "      <th>Injury</th>\n",
       "    </tr>\n",
       "  </thead>\n",
       "  <tbody>\n",
       "    <tr>\n",
       "      <th>54</th>\n",
       "      <td>No injury, but sharks repeatedly hit their fin...</td>\n",
       "    </tr>\n",
       "    <tr>\n",
       "      <th>1844</th>\n",
       "      <td>Reported as shark attack but probable drowning</td>\n",
       "    </tr>\n",
       "    <tr>\n",
       "      <th>2449</th>\n",
       "      <td>FATAL</td>\n",
       "    </tr>\n",
       "    <tr>\n",
       "      <th>3280</th>\n",
       "      <td>Diver shot the shark, then it injured his arm ...</td>\n",
       "    </tr>\n",
       "    <tr>\n",
       "      <th>3435</th>\n",
       "      <td>Disappeared, probable drowning but sharks in a...</td>\n",
       "    </tr>\n",
       "    <tr>\n",
       "      <th>3901</th>\n",
       "      <td>Boat damaged</td>\n",
       "    </tr>\n",
       "    <tr>\n",
       "      <th>4107</th>\n",
       "      <td>No injury to occupants. Shark tore nets &amp; traw...</td>\n",
       "    </tr>\n",
       "    <tr>\n",
       "      <th>4112</th>\n",
       "      <td>Human remains found in shark</td>\n",
       "    </tr>\n",
       "    <tr>\n",
       "      <th>5307</th>\n",
       "      <td>Disappeared, but shark involvement unconfirmed</td>\n",
       "    </tr>\n",
       "    <tr>\n",
       "      <th>5437</th>\n",
       "      <td>No injury, no attack</td>\n",
       "    </tr>\n",
       "    <tr>\n",
       "      <th>5468</th>\n",
       "      <td>Human remains found in 4m, 900 kg shark</td>\n",
       "    </tr>\n",
       "    <tr>\n",
       "      <th>5642</th>\n",
       "      <td>No injury</td>\n",
       "    </tr>\n",
       "    <tr>\n",
       "      <th>5699</th>\n",
       "      <td>Possible drowning and scavenging</td>\n",
       "    </tr>\n",
       "    <tr>\n",
       "      <th>5718</th>\n",
       "      <td>FATAL</td>\n",
       "    </tr>\n",
       "    <tr>\n",
       "      <th>5747</th>\n",
       "      <td>Death preceded shark involvement</td>\n",
       "    </tr>\n",
       "    <tr>\n",
       "      <th>5793</th>\n",
       "      <td>Shark caught contained human remains</td>\n",
       "    </tr>\n",
       "    <tr>\n",
       "      <th>5794</th>\n",
       "      <td>Shark caught, contained human remains</td>\n",
       "    </tr>\n",
       "    <tr>\n",
       "      <th>5820</th>\n",
       "      <td>Probable drowning</td>\n",
       "    </tr>\n",
       "    <tr>\n",
       "      <th>5849</th>\n",
       "      <td>Partial hominid remains recovered from shark, ...</td>\n",
       "    </tr>\n",
       "  </tbody>\n",
       "</table>\n",
       "</div>"
      ],
      "text/plain": [
       "                                                 Injury\n",
       "54    No injury, but sharks repeatedly hit their fin...\n",
       "1844    Reported as shark attack but probable drowning \n",
       "2449                                              FATAL\n",
       "3280  Diver shot the shark, then it injured his arm ...\n",
       "3435  Disappeared, probable drowning but sharks in a...\n",
       "3901                                       Boat damaged\n",
       "4107  No injury to occupants. Shark tore nets & traw...\n",
       "4112                       Human remains found in shark\n",
       "5307     Disappeared, but shark involvement unconfirmed\n",
       "5437                               No injury, no attack\n",
       "5468            Human remains found in 4m, 900 kg shark\n",
       "5642                                          No injury\n",
       "5699                   Possible drowning and scavenging\n",
       "5718                                              FATAL\n",
       "5747                   Death preceded shark involvement\n",
       "5793               Shark caught contained human remains\n",
       "5794              Shark caught, contained human remains\n",
       "5820                                 Probable drowning \n",
       "5849  Partial hominid remains recovered from shark, ..."
      ]
     },
     "execution_count": 15,
     "metadata": {},
     "output_type": "execute_result"
    }
   ],
   "source": [
    "#La columna Fatal solamente tiene 19 valores nulos.\n",
    "#Busco descripcion de las lesiones en la tabla data original para ver si puedo deducir si es fatal o no\n",
    "\n",
    "data.loc[data['Fatal (Y/N)'].isnull(),['Injury']]\n",
    "\n",
    "#con estos datos seria factible rellenar los vacios"
   ]
  },
  {
   "cell_type": "code",
   "execution_count": 16,
   "metadata": {},
   "outputs": [
    {
     "data": {
      "text/plain": [
       "N          4019\n",
       "Y          1197\n",
       "UNKNOWN      74\n",
       "NaN           9\n",
       " N            8\n",
       "F             1\n",
       "N             1\n",
       "Name: Fatal, dtype: int64"
      ]
     },
     "execution_count": 16,
     "metadata": {},
     "output_type": "execute_result"
    }
   ],
   "source": [
    "#compruebo los valores en la columna Fatal\n",
    "#los valores Y y N seria mejor que fueran 1 y 0\n",
    "\n",
    "data_info['Fatal'].value_counts(dropna=False)"
   ]
  },
  {
   "cell_type": "code",
   "execution_count": 17,
   "metadata": {},
   "outputs": [
    {
     "data": {
      "text/plain": [
       "N      4028\n",
       "Y      1197\n",
       "NNN      74\n",
       "NaN       9\n",
       "          1\n",
       "Name: Fatal, dtype: int64"
      ]
     },
     "execution_count": 17,
     "metadata": {},
     "output_type": "execute_result"
    }
   ],
   "source": [
    "#Cambio valores que no son Y o N NaN. Tengo que hacerlo en 2 pasos porque el metodo no me admite\n",
    "#reemplazar por la funcion np.nan. Primero los sustituyo por ''\n",
    "\n",
    "data_info['Fatal'] = data_info['Fatal'].str.replace('[^YN]', '')\n",
    "data_info['Fatal'].value_counts(dropna=False)"
   ]
  },
  {
   "cell_type": "code",
   "execution_count": 18,
   "metadata": {},
   "outputs": [
    {
     "data": {
      "text/plain": [
       "N      4028\n",
       "Y      1197\n",
       "         75\n",
       "NaN       9\n",
       "Name: Fatal, dtype: int64"
      ]
     },
     "execution_count": 18,
     "metadata": {},
     "output_type": "execute_result"
    }
   ],
   "source": [
    "#Los que eran UNKNOWN se han quedado en NNN\n",
    "#los sustituyo tambien por ''\n",
    "\n",
    "data_info['Fatal'] = data_info['Fatal'].str.replace('NNN', '')\n",
    "data_info['Fatal'].value_counts(dropna=False)"
   ]
  },
  {
   "cell_type": "code",
   "execution_count": 19,
   "metadata": {},
   "outputs": [
    {
     "data": {
      "text/plain": [
       "N      4028\n",
       "Y      1197\n",
       "NaN      84\n",
       "Name: Fatal, dtype: int64"
      ]
     },
     "execution_count": 19,
     "metadata": {},
     "output_type": "execute_result"
    }
   ],
   "source": [
    "#ahora si, los valores '' pasan a NaN\n",
    "\n",
    "data_info['Fatal'] = data_info['Fatal'].replace('', np.nan)\n",
    "data_info['Fatal'].value_counts(dropna=False)"
   ]
  },
  {
   "cell_type": "code",
   "execution_count": 20,
   "metadata": {},
   "outputs": [
    {
     "data": {
      "text/plain": [
       " 0.0    4028\n",
       " 1.0    1197\n",
       "NaN       84\n",
       "Name: Fatal, dtype: int64"
      ]
     },
     "execution_count": 20,
     "metadata": {},
     "output_type": "execute_result"
    }
   ],
   "source": [
    "#ahora si cambio Y y N por 1 y 0\n",
    "\n",
    "data_info.loc[data_info['Fatal'] == 'Y', 'Fatal'] = 1\n",
    "data_info.loc[data_info['Fatal'] == 'N', 'Fatal'] = 0\n",
    "data_info['Fatal'].value_counts(dropna=False)"
   ]
  },
  {
   "cell_type": "code",
   "execution_count": 21,
   "metadata": {},
   "outputs": [
    {
     "name": "stdout",
     "output_type": "stream",
     "text": [
      "Dead after attack:  1197\n",
      "Alive after attack:  4028\n",
      "Percentage of fatal attacks:  23 %\n"
     ]
    }
   ],
   "source": [
    "#Los ataques de tiburones son mayoritariamente letales?\n",
    "\n",
    "dead = data_info.loc[data_info['Fatal'] == 1]\n",
    "print('Dead after attack: ',len(dead))\n",
    "\n",
    "alive = data_info.loc[data_info['Fatal'] == 0]\n",
    "print('Alive after attack: ',len(alive))\n",
    "\n",
    "print('Percentage of fatal attacks: ', round(100*len(dead)/(len(dead)+len(alive))),'%')\n",
    "\n",
    "#Solamente el 23% lo son"
   ]
  },
  {
   "cell_type": "code",
   "execution_count": 24,
   "metadata": {},
   "outputs": [
    {
     "data": {
      "text/html": [
       "<div>\n",
       "<style scoped>\n",
       "    .dataframe tbody tr th:only-of-type {\n",
       "        vertical-align: middle;\n",
       "    }\n",
       "\n",
       "    .dataframe tbody tr th {\n",
       "        vertical-align: top;\n",
       "    }\n",
       "\n",
       "    .dataframe thead th {\n",
       "        text-align: right;\n",
       "    }\n",
       "</style>\n",
       "<table border=\"1\" class=\"dataframe\">\n",
       "  <thead>\n",
       "    <tr style=\"text-align: right;\">\n",
       "      <th></th>\n",
       "      <th>Country</th>\n",
       "      <th>Case_num</th>\n",
       "    </tr>\n",
       "  </thead>\n",
       "  <tbody>\n",
       "    <tr>\n",
       "      <th>167</th>\n",
       "      <td>USA</td>\n",
       "      <td>1984</td>\n",
       "    </tr>\n",
       "    <tr>\n",
       "      <th>10</th>\n",
       "      <td>AUSTRALIA</td>\n",
       "      <td>1121</td>\n",
       "    </tr>\n",
       "    <tr>\n",
       "      <th>140</th>\n",
       "      <td>SOUTH AFRICA</td>\n",
       "      <td>532</td>\n",
       "    </tr>\n",
       "    <tr>\n",
       "      <th>119</th>\n",
       "      <td>PAPUA NEW GUINEA</td>\n",
       "      <td>129</td>\n",
       "    </tr>\n",
       "    <tr>\n",
       "      <th>18</th>\n",
       "      <td>BRAZIL</td>\n",
       "      <td>100</td>\n",
       "    </tr>\n",
       "    <tr>\n",
       "      <th>102</th>\n",
       "      <td>NEW ZEALAND</td>\n",
       "      <td>94</td>\n",
       "    </tr>\n",
       "    <tr>\n",
       "      <th>12</th>\n",
       "      <td>BAHAMAS</td>\n",
       "      <td>90</td>\n",
       "    </tr>\n",
       "    <tr>\n",
       "      <th>88</th>\n",
       "      <td>MEXICO</td>\n",
       "      <td>73</td>\n",
       "    </tr>\n",
       "    <tr>\n",
       "      <th>68</th>\n",
       "      <td>ITALY</td>\n",
       "      <td>61</td>\n",
       "    </tr>\n",
       "    <tr>\n",
       "      <th>126</th>\n",
       "      <td>REUNION</td>\n",
       "      <td>55</td>\n",
       "    </tr>\n",
       "  </tbody>\n",
       "</table>\n",
       "</div>"
      ],
      "text/plain": [
       "              Country  Case_num\n",
       "167               USA      1984\n",
       "10          AUSTRALIA      1121\n",
       "140      SOUTH AFRICA       532\n",
       "119  PAPUA NEW GUINEA       129\n",
       "18             BRAZIL       100\n",
       "102       NEW ZEALAND        94\n",
       "12            BAHAMAS        90\n",
       "88             MEXICO        73\n",
       "68              ITALY        61\n",
       "126           REUNION        55"
      ]
     },
     "execution_count": 24,
     "metadata": {},
     "output_type": "execute_result"
    }
   ],
   "source": [
    "#agrupamos por paises y contamos casos\n",
    "cases_country = data_info.groupby('Country',as_index=False)['Case_num'].count()\n",
    "cases_country.sort_values(by=['Case_num'], ascending = False).head(10)\n",
    "\n",
    "#USA y Australia son los paises con mas casos"
   ]
  },
  {
   "cell_type": "code",
   "execution_count": 23,
   "metadata": {},
   "outputs": [
    {
     "data": {
      "text/plain": [
       "Unprovoked      3873\n",
       "Provoked         524\n",
       "Invalid          448\n",
       "Boat             194\n",
       "Sea Disaster     181\n",
       "Boating           89\n",
       "Name: Type, dtype: int64"
      ]
     },
     "execution_count": 23,
     "metadata": {},
     "output_type": "execute_result"
    }
   ],
   "source": [
    "#Compruebo valores de la columna Type\n",
    "data_info['Type'].value_counts()"
   ]
  },
  {
   "cell_type": "code",
   "execution_count": 25,
   "metadata": {},
   "outputs": [
    {
     "name": "stdout",
     "output_type": "stream",
     "text": [
      "Cases from USA:  1984\n",
      "Unprovoked cases from USA:  1556\n",
      "Percentage of unprovoked cases in the USA:  78 %\n"
     ]
    }
   ],
   "source": [
    "#ejemplo de filtrado: ataques no provocados en USA\n",
    "\n",
    "cases_usa = data_info[(data_info['Country']=='USA')]\n",
    "\n",
    "print('Cases from USA: ',len(cases_usa))\n",
    "\n",
    "filtered = data_info.loc[(data_info['Country']=='USA') & \n",
    "                (data_info['Type']=='Unprovoked'),]\n",
    "                \n",
    "\n",
    "print('Unprovoked cases from USA: ',len(filtered))\n",
    "print('Percentage of unprovoked cases in the USA: ', round(100*(len(filtered)/len(cases_usa))), '%')\n",
    "\n",
    "#la mayoria de los casos en USA fueron no provocados"
   ]
  },
  {
   "cell_type": "code",
   "execution_count": 26,
   "metadata": {},
   "outputs": [
    {
     "name": "stdout",
     "output_type": "stream",
     "text": [
      "Cases from Australia:  1121\n",
      "Unprovoked cases from Australia:  779\n",
      "Percentage of unprovoked cases in the Australia:  69 %\n"
     ]
    }
   ],
   "source": [
    "#Comparamos con el mismo caso en Australia\n",
    "\n",
    "cases_aus = data_info[(data_info['Country']=='AUSTRALIA')]\n",
    "\n",
    "print('Cases from Australia: ',len(cases_aus))\n",
    "\n",
    "filtered2 = data_info.loc[(data_info['Country']=='AUSTRALIA') & \n",
    "                (data_info['Type']=='Unprovoked'),]\n",
    "                \n",
    "\n",
    "print('Unprovoked cases from Australia: ',len(filtered2))\n",
    "print('Percentage of unprovoked cases in the Australia: ', round(100*(len(filtered2)/len(cases_aus))), '%')\n",
    "\n",
    "#Los porcentajes son bastante parecidos"
   ]
  },
  {
   "cell_type": "code",
   "execution_count": 53,
   "metadata": {},
   "outputs": [
    {
     "data": {
      "text/plain": [
       "Surfing                                                                                                                                                                                                                    900\n",
       "Swimming                                                                                                                                                                                                                   711\n",
       "Fishing                                                                                                                                                                                                                    366\n",
       "Spearfishing                                                                                                                                                                                                               321\n",
       "Wading                                                                                                                                                                                                                     139\n",
       "Diving                                                                                                                                                                                                                     100\n",
       "Standing                                                                                                                                                                                                                    90\n",
       "Snorkeling                                                                                                                                                                                                                  76\n",
       "Scuba diving                                                                                                                                                                                                                73\n",
       "Bathing                                                                                                                                                                                                                     73\n",
       "Body boarding                                                                                                                                                                                                               54\n",
       "Body surfing                                                                                                                                                                                                                48\n",
       "Swimming                                                                                                                                                                                                                    44\n",
       "Treading water                                                                                                                                                                                                              32\n",
       "Boogie boarding                                                                                                                                                                                                             28\n",
       "Kayaking                                                                                                                                                                                                                    28\n",
       "Free diving                                                                                                                                                                                                                 24\n",
       "Pearl diving                                                                                                                                                                                                                22\n",
       "Windsurfing                                                                                                                                                                                                                 18\n",
       "Boogie Boarding                                                                                                                                                                                                             16\n",
       "Walking                                                                                                                                                                                                                     15\n",
       "Shark fishing                                                                                                                                                                                                               14\n",
       "Surf skiing                                                                                                                                                                                                                 12\n",
       "Surf-skiing                                                                                                                                                                                                                 12\n",
       "Fishing                                                                                                                                                                                                                     11\n",
       "Surf fishing                                                                                                                                                                                                                11\n",
       "Floating                                                                                                                                                                                                                    11\n",
       "Fishing for sharks                                                                                                                                                                                                          10\n",
       "Kayak Fishing                                                                                                                                                                                                               10\n",
       "Freediving                                                                                                                                                                                                                  10\n",
       "                                                                                                                                                                                                                          ... \n",
       "Swimming breast stoke                                                                                                                                                                                                        1\n",
       "The shrimper Loless Maurine capsized in heavy seas & the men were swimming ashore                                                                                                                                            1\n",
       "Sinking of the ferryboat Dumaguete                                                                                                                                                                                           1\n",
       "Scuba diving, attempting to catch a captive shark                                                                                                                                                                            1\n",
       "Paddling outrigger canoe                                                                                                                                                                                                     1\n",
       "Killing  sharks                                                                                                                                                                                                              1\n",
       "Photographing sharks underwater using Scuba                                                                                                                                                                                  1\n",
       "Fishing in Alabama Deep Fishing Rodeo                                                                                                                                                                                        1\n",
       "The USS Wahoo torpedoes & sank the Japanese troop transport Buyo Maru                                                                                                                                                        1\n",
       "Attempting to Kite surf from Egypt to Saudi Arabia                                                                                                                                                                           1\n",
       "The 426-ton cargo ship Mia, laden with cement, capsized in heavy seas                                                                                                                                                        1\n",
       "Spearfishing, shot a turtle                                                                                                                                                                                                  1\n",
       "Body surfing & treading water                                                                                                                                                                                                1\n",
       "Swimming with speared fish                                                                                                                                                                                                   1\n",
       "Ejected from F3H-2 aircraft                                                                                                                                                                                                  1\n",
       "Hospital Ship Centaur torpedoed & sunk by the Japanese submarine I-177                                                                                                                                                       1\n",
       "Skindiving for abalone (but at surface)                                                                                                                                                                                      1\n",
       "Dived into sea from launch & bitten immediately                                                                                                                                                                              1\n",
       "Free diving & spearfishing (ascending)                                                                                                                                                                                       1\n",
       "Taking catch from a fish weir in which the shark was snared                                                                                                                                                                  1\n",
       "Steamer Durao struck rock & filled, boats capsized, passengers & crew tried to swim to shore                                                                                                                                 1\n",
       "Wreck of the 1308-ton Norwegian ship Auckland                                                                                                                                                                                1\n",
       "2 messboys (Jeppsen) & Tony Latona (13) were playing on the afterdeck of the Danish ship Grete Maersk. Jeppsen fell overboard, Latona threw a lifebelt then jumped in to help him. Ship didnt notice they were missing      1\n",
       "Wading, knocked down & swept away by large waves                                                                                                                                                                             1\n",
       "Fell from his father's back into the water                                                                                                                                                                                   1\n",
       "Sea Disaster, sinking of the  SS Vestris                                                                                                                                                                                     1\n",
       "Shipwrecked                                                                                                                                                                                                                  1\n",
       "Fell overboard from USS cruiser Tacoma                                                                                                                                                                                       1\n",
       "Diving & force-feeding the shark                                                                                                                                                                                             1\n",
       "On board 51' fishing vessel One Ki                                                                                                                                                                                           1\n",
       "Name: Activity, Length: 1299, dtype: int64"
      ]
     },
     "execution_count": 53,
     "metadata": {},
     "output_type": "execute_result"
    }
   ],
   "source": [
    "#Compruebo valores de la columna Activity\n",
    "data_info['Activity'].value_counts()\n",
    "\n",
    "\n",
    "#El surf y la natacion parecen ser las actividades con mas ataques de tiburon"
   ]
  },
  {
   "cell_type": "code",
   "execution_count": 56,
   "metadata": {},
   "outputs": [
    {
     "name": "stdout",
     "output_type": "stream",
     "text": [
      "Surfers attacked:  900\n",
      "Swimmers attacked:  711\n",
      "Dead surfers:  49\n",
      "Dead swimmers:  260\n",
      "Percentage of fatal attacks to surfers:  5 %\n",
      "Percentage of fatal attacks to swimmers:  37 %\n"
     ]
    }
   ],
   "source": [
    "#Miro cual de las 2 actividades tiene mas probabilidad de acabar en muerte tras un ataque\n",
    "\n",
    "cases_surf = data_info[(data_info['Activity']=='Surfing')]\n",
    "print('Surfers attacked: ',len(cases_surf))\n",
    "\n",
    "cases_swim = data_info[(data_info['Activity']=='Swimming')]\n",
    "print('Swimmers attacked: ',len(cases_swim))\n",
    "\n",
    "fatal_surf = data_info[(data_info['Activity']=='Surfing')& (data_info['Fatal']==1)]\n",
    "print('Dead surfers: ',len(fatal_surf))\n",
    "\n",
    "fatal_swim = data_info[(data_info['Activity']=='Swimming')& (data_info['Fatal']==1)]\n",
    "print('Dead swimmers: ',len(fatal_swim))\n",
    "\n",
    "print('Percentage of fatal attacks to surfers: ', round(100*(len(fatal_surf)/len(cases_surf))), '%')\n",
    "print('Percentage of fatal attacks to swimmers: ', round(100*(len(fatal_swim)/len(cases_swim))), '%')\n",
    "\n",
    "#Conclusion: un ataque a un nadador es mortal con mas frecuencia que un ataque a un surfista\n"
   ]
  },
  {
   "cell_type": "code",
   "execution_count": 59,
   "metadata": {},
   "outputs": [],
   "source": [
    "data_info.to_csv('tidy_shark_dataset.csv')"
   ]
  },
  {
   "cell_type": "code",
   "execution_count": null,
   "metadata": {},
   "outputs": [],
   "source": []
  }
 ],
 "metadata": {
  "kernelspec": {
   "display_name": "Python 3",
   "language": "python",
   "name": "python3"
  },
  "language_info": {
   "codemirror_mode": {
    "name": "ipython",
    "version": 3
   },
   "file_extension": ".py",
   "mimetype": "text/x-python",
   "name": "python",
   "nbconvert_exporter": "python",
   "pygments_lexer": "ipython3",
   "version": "3.7.1"
  }
 },
 "nbformat": 4,
 "nbformat_minor": 2
}
